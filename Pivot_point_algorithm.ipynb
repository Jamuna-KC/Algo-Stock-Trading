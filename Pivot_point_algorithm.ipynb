{
  "nbformat": 4,
  "nbformat_minor": 0,
  "metadata": {
    "colab": {
      "provenance": [],
      "authorship_tag": "ABX9TyPuldvyQgC9UQ1E2stQMbUH"
    },
    "kernelspec": {
      "name": "python3",
      "display_name": "Python 3"
    },
    "language_info": {
      "name": "python"
    }
  },
  "cells": [
    {
      "cell_type": "code",
      "execution_count": 1,
      "metadata": {
        "colab": {
          "base_uri": "https://localhost:8080/"
        },
        "id": "lMl8qTzO7M6T",
        "outputId": "95e2a464-39b8-498f-c12d-fc6babb1cc5a"
      },
      "outputs": [
        {
          "output_type": "stream",
          "name": "stdout",
          "text": [
            "Model Accuracy: 1.0\n",
            "Enter the current high price: 3955\n",
            "Enter the current low price: 3855\n",
            "Enter the current close price: 3942\n",
            "Predicted Trading Signal: Hold\n"
          ]
        },
        {
          "output_type": "stream",
          "name": "stderr",
          "text": [
            "/usr/local/lib/python3.10/dist-packages/sklearn/base.py:439: UserWarning: X does not have valid feature names, but DecisionTreeClassifier was fitted with feature names\n",
            "  warnings.warn(\n"
          ]
        }
      ],
      "source": [
        "from sklearn.tree import DecisionTreeClassifier\n",
        "from sklearn.model_selection import train_test_split\n",
        "from sklearn.metrics import accuracy_score\n",
        "import pandas as pd\n",
        "\n",
        "\n",
        "historical_data = pd.read_csv('/content/TCS_5Y.csv')\n",
        "\n",
        "# Function to calculate pivot points and trading signals\n",
        "def calculate_pivot_points(high, low, close):\n",
        "    pivot_point = (high + low + close) / 3\n",
        "    support_1 = (2 * pivot_point) - high\n",
        "    support_2 = pivot_point - (high - low)\n",
        "    resistance_1 = (2 * pivot_point) - low\n",
        "    resistance_2 = pivot_point + (high - low)\n",
        "\n",
        "    return {\n",
        "        'Pivot Point': pivot_point,\n",
        "        'Support 1': support_1,\n",
        "        'Support 2': support_2,\n",
        "        'Resistance 1': resistance_1,\n",
        "        'Resistance 2': resistance_2\n",
        "    }\n",
        "\n",
        "def trading_strategy(pivot_points, current_close):\n",
        "    if current_close > pivot_points['Resistance 1']:\n",
        "        return 'Buy'\n",
        "    elif current_close < pivot_points['Support 1']:\n",
        "        return 'Sell'\n",
        "    else:\n",
        "        return 'Hold'\n",
        "\n",
        "# Feature engineering for machine learning\n",
        "historical_data['Pivot Point'] = (historical_data['High'] + historical_data['Low'] + historical_data['Close']) / 3\n",
        "historical_data['Support 1'] = (2 * historical_data['Pivot Point']) - historical_data['High']\n",
        "historical_data['Support 2'] = historical_data['Pivot Point'] - (historical_data['High'] - historical_data['Low'])\n",
        "historical_data['Resistance 1'] = (2 * historical_data['Pivot Point']) - historical_data['Low']\n",
        "historical_data['Resistance 2'] = historical_data['Pivot Point'] + (historical_data['High'] - historical_data['Low'])\n",
        "\n",
        "# Create target variable ('Signal') based on trading strategy\n",
        "historical_data['Signal'] = historical_data.apply(lambda row: trading_strategy(row[['Resistance 1', 'Support 1']], row['Close']), axis=1)\n",
        "\n",
        "# Features for machine learning\n",
        "X = historical_data[['Pivot Point', 'Support 1', 'Support 2', 'Resistance 1', 'Resistance 2']]\n",
        "\n",
        "# Target variable\n",
        "y = historical_data['Signal']\n",
        "\n",
        "# Split the data into training and testing sets\n",
        "X_train, X_test, y_train, y_test = train_test_split(X, y, test_size=0.2, random_state=42)\n",
        "\n",
        "# Initialize and train the decision tree classifier\n",
        "model = DecisionTreeClassifier(random_state=42)\n",
        "model.fit(X_train, y_train)\n",
        "\n",
        "# Make predictions on the test set\n",
        "predictions = model.predict(X_test)\n",
        "\n",
        "# Evaluate the model\n",
        "accuracy = accuracy_score(y_test, predictions)\n",
        "print(f'Model Accuracy: {accuracy}')\n",
        "\n",
        "# User inputs for current values\n",
        "current_high_price = float(input(\"Enter the current high price: \"))\n",
        "current_low_price = float(input(\"Enter the current low price: \"))\n",
        "current_close_price = float(input(\"Enter the current close price: \"))\n",
        "\n",
        "# Calculate pivot points\n",
        "current_pivot_points = calculate_pivot_points(current_high_price, current_low_price, current_close_price)\n",
        "\n",
        "# Use the model to predict the trading signal\n",
        "current_features = [current_pivot_points['Pivot Point'], current_pivot_points['Support 1'], current_pivot_points['Support 2'], current_pivot_points['Resistance 1'], current_pivot_points['Resistance 2']]\n",
        "predicted_signal = model.predict([current_features])[0]\n",
        "\n",
        "print(f'Predicted Trading Signal: {predicted_signal}')\n"
      ]
    },
    {
      "cell_type": "code",
      "source": [],
      "metadata": {
        "id": "P5PEuHcr7Ywc"
      },
      "execution_count": null,
      "outputs": []
    }
  ]
}